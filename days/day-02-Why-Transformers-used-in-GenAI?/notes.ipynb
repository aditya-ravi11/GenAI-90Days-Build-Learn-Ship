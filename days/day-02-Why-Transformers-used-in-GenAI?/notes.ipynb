{
 "cells": [
  {
   "cell_type": "markdown",
   "id": "ed15750d",
   "metadata": {},
   "source": [
    "# Notes"
   ]
  },
  {
   "cell_type": "markdown",
   "id": "15fe9eb2",
   "metadata": {},
   "source": [
    "**Topic:** {{TITLE}}\n",
    "\n",
    "**Why:** {{WHY}}\n",
    "\n",
    "**What I verified today:**"
   ]
  },
  {
   "cell_type": "code",
   "execution_count": null,
   "id": "7ebd0641",
   "metadata": {},
   "outputs": [],
   "source": [
    "import numpy as np\n",
    "\n",
    "# tiny check: numerical stability of softmax\n",
    "x = np.array([1000.0, 999.0, 998.0])\n",
    "x = x - x.max()\n",
    "p = np.exp(x) / np.exp(x).sum()\n",
    "print(p)"
   ]
  },
  {
   "cell_type": "markdown",
   "id": "af867ff9",
   "metadata": {},
   "source": [
    "**Observations:**\n",
    "- ...\n",
    "\n",
    "**Next steps:**\n",
    "- ..."
   ]
  }
 ],
 "metadata": {},
 "nbformat": 4,
 "nbformat_minor": 5
}
